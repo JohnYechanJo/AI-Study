{
  "cells": [
    {
      "cell_type": "markdown",
      "metadata": {
        "id": "e8Y4Sv1gRNK_"
      },
      "source": [
        "# 1교시: 구글 코랩 실행 및 딥러닝의 기초"
      ]
    },
    {
      "cell_type": "markdown",
      "metadata": {
        "id": "A1Yvrk6UP74v"
      },
      "source": [
        "- 사전 준비: 구글 코랩, 내 계정에서 실행하기"
      ]
    },
    {
      "cell_type": "markdown",
      "metadata": {
        "id": "PTk09Cr5RNLD"
      },
      "source": [
        "### 1. 실행 환경 준비"
      ]
    },
    {
      "cell_type": "code",
      "execution_count": 6,
      "metadata": {
        "id": "MN8oWQNERNLD"
      },
      "outputs": [],
      "source": [
        "# 텐서플로 라이브러리 안에 있는 케라스 API에서 필요한 함수들을 불러옵니다.\n",
        "from tensorflow.keras.models import Sequential\n",
        "from tensorflow.keras.layers import Dense\n",
        "\n",
        "# 데이터를 다루는 데 필요한 라이브러리를 불러옵니다.\n",
        "import numpy as np"
      ]
    },
    {
      "cell_type": "markdown",
      "metadata": {
        "id": "YRAUL52KRNLE"
      },
      "source": [
        "### 2. 데이터 준비"
      ]
    },
    {
      "cell_type": "code",
      "execution_count": 8,
      "metadata": {
        "id": "k9BogLfeRNLF",
        "colab": {
          "base_uri": "https://localhost:8080/"
        },
        "outputId": "e5f8276e-5239-49d2-df51-600b82c13f6c"
      },
      "outputs": [
        {
          "output_type": "stream",
          "name": "stdout",
          "text": [
            "fatal: destination path 'data' already exists and is not an empty directory.\n"
          ]
        }
      ],
      "source": [
        "# 깃허브에 준비된 데이터를 가져옵니다.\n",
        "!git clone https://github.com/taehojo/data.git\n",
        "\n",
        "# 준비된 수술 환자 데이터를 불러옵니다.\n",
        "Data_set = np.loadtxt(\"./data/ThoraricSurgery3.csv\", delimiter=\",\")\n",
        "X = Data_set[:,0:16]    # 환자의 진찰 기록을 X로 지정합니다.\n",
        "y = Data_set[:,16]      # 수술 1년 후 사망/생존 여부를 y로 지정합니다."
      ]
    },
    {
      "cell_type": "markdown",
      "metadata": {
        "id": "zf-AW5NqRNLF"
      },
      "source": [
        "### 3. 구조 결정"
      ]
    },
    {
      "cell_type": "markdown",
      "metadata": {
        "id": "7DT-ZPaAP74y"
      },
      "source": [
        "<img src=\"https://github.com/taehojo/fastcampus_ai/blob/master/data/img/01-01.png?raw=1\" alt=\"dl-structure\" width=\"400\"/>"
      ]
    },
    {
      "cell_type": "code",
      "execution_count": 9,
      "metadata": {
        "id": "BEfa9azNRNLG",
        "colab": {
          "base_uri": "https://localhost:8080/"
        },
        "outputId": "7e4a9958-5cca-4441-cd1b-3efd79f29c20"
      },
      "outputs": [
        {
          "output_type": "stream",
          "name": "stderr",
          "text": [
            "/usr/local/lib/python3.11/dist-packages/keras/src/layers/core/dense.py:87: UserWarning: Do not pass an `input_shape`/`input_dim` argument to a layer. When using Sequential models, prefer using an `Input(shape)` object as the first layer in the model instead.\n",
            "  super().__init__(activity_regularizer=activity_regularizer, **kwargs)\n"
          ]
        }
      ],
      "source": [
        "# 딥러닝 모델의 구조를 결정합니다.\n",
        "model = Sequential()\n",
        "model.add(Dense(30, input_dim=16, activation='relu'))\n",
        "model.add(Dense(1, activation='sigmoid'))"
      ]
    },
    {
      "cell_type": "markdown",
      "metadata": {
        "id": "Wg2Ju5TTRNLG"
      },
      "source": [
        "### 4. 모델 실행"
      ]
    },
    {
      "cell_type": "code",
      "execution_count": 10,
      "metadata": {
        "id": "6Puv4ovSRNLH",
        "outputId": "a3f45ecf-367d-4648-beeb-cceb3ad03dc3",
        "colab": {
          "base_uri": "https://localhost:8080/"
        }
      },
      "outputs": [
        {
          "output_type": "stream",
          "name": "stdout",
          "text": [
            "Epoch 1/5\n",
            "\u001b[1m30/30\u001b[0m \u001b[32m━━━━━━━━━━━━━━━━━━━━\u001b[0m\u001b[37m\u001b[0m \u001b[1m1s\u001b[0m 12ms/step - accuracy: 0.8518 - loss: 1.6463\n",
            "Epoch 2/5\n",
            "\u001b[1m30/30\u001b[0m \u001b[32m━━━━━━━━━━━━━━━━━━━━\u001b[0m\u001b[37m\u001b[0m \u001b[1m0s\u001b[0m 2ms/step - accuracy: 0.8465 - loss: 0.4638\n",
            "Epoch 3/5\n",
            "\u001b[1m30/30\u001b[0m \u001b[32m━━━━━━━━━━━━━━━━━━━━\u001b[0m\u001b[37m\u001b[0m \u001b[1m0s\u001b[0m 2ms/step - accuracy: 0.8488 - loss: 0.4492\n",
            "Epoch 4/5\n",
            "\u001b[1m30/30\u001b[0m \u001b[32m━━━━━━━━━━━━━━━━━━━━\u001b[0m\u001b[37m\u001b[0m \u001b[1m0s\u001b[0m 2ms/step - accuracy: 0.8589 - loss: 0.4115\n",
            "Epoch 5/5\n",
            "\u001b[1m30/30\u001b[0m \u001b[32m━━━━━━━━━━━━━━━━━━━━\u001b[0m\u001b[37m\u001b[0m \u001b[1m0s\u001b[0m 2ms/step - accuracy: 0.8682 - loss: 0.4234\n"
          ]
        }
      ],
      "source": [
        "# 딥러닝 모델을 실행합니다.\n",
        "model.compile(loss='binary_crossentropy', optimizer='adam', metrics=['accuracy'])\n",
        "history=model.fit(X, y, epochs=5, batch_size=16)"
      ]
    },
    {
      "cell_type": "markdown",
      "metadata": {
        "id": "6IAV1DewP74z"
      },
      "source": [
        "---\n",
        "### 딥러닝 학습의 키워드\n",
        "\n",
        "#### 활성화 함수 (Activation)\n",
        "뉴런의 출력값을 결정하는 함수\n",
        "\n",
        "#### 손실 함수 (Loss)\n",
        "모델의 예측값과 실제값 간의 차이를 측정하는 함수\n",
        "\n",
        "#### 최적화 알고리즘 (Optimizer)\n",
        "손실 함수를 최소화하기 위해 모델의 가중치를 조정하는 방법 (경사 하강법)\n",
        "\n",
        "---"
      ]
    }
  ],
  "metadata": {
    "colab": {
      "name": "01-colab.ipynb",
      "provenance": []
    },
    "kernelspec": {
      "display_name": "Python 3 (ipykernel)",
      "language": "python",
      "name": "python3"
    },
    "language_info": {
      "codemirror_mode": {
        "name": "ipython",
        "version": 3
      },
      "file_extension": ".py",
      "mimetype": "text/x-python",
      "name": "python",
      "nbconvert_exporter": "python",
      "pygments_lexer": "ipython3",
      "version": "3.8.19"
    }
  },
  "nbformat": 4,
  "nbformat_minor": 0
}